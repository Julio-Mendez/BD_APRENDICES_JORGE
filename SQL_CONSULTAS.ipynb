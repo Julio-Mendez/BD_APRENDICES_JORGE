{
    "metadata": {
        "kernelspec": {
            "name": "SQL",
            "display_name": "SQL",
            "language": "sql"
        },
        "language_info": {
            "name": "sql",
            "version": ""
        }
    },
    "nbformat_minor": 2,
    "nbformat": 4,
    "cells": [
        {
            "cell_type": "code",
            "source": [
                ""
            ],
            "metadata": {
                "azdata_cell_guid": "e592c91c-6d05-476b-994d-9cff3969c557",
                "language": "sql"
            },
            "outputs": [],
            "execution_count": null
        }
    ]
}