{
 "cells": [
  {
   "cell_type": "code",
   "execution_count": 12,
   "metadata": {},
   "outputs": [],
   "source": [
    "import pandas as pd\n",
    "import matplotlib\n",
    "import numpy as np\n",
    "import glob\n",
    "import os"
   ]
  },
  {
   "cell_type": "code",
   "execution_count": 2,
   "metadata": {},
   "outputs": [],
   "source": [
    "ruta = \"./DATOS/\""
   ]
  },
  {
   "cell_type": "code",
   "execution_count": 13,
   "metadata": {},
   "outputs": [],
   "source": [
    "file1 = pd.read_excel(\n",
    "    ruta + \"CONSOLIDADO_FICHAS_CON_Y_SIN_PROGRAMACION_ESPECIFICA( EVENTOS)2.xlsx\"\n",
    ")\n",
    "df1 = pd.DataFrame(file1)"
   ]
  },
  {
   "cell_type": "code",
   "execution_count": 15,
   "metadata": {},
   "outputs": [
    {
     "data": {
      "text/html": [
       "<div>\n",
       "<style scoped>\n",
       "    .dataframe tbody tr th:only-of-type {\n",
       "        vertical-align: middle;\n",
       "    }\n",
       "\n",
       "    .dataframe tbody tr th {\n",
       "        vertical-align: top;\n",
       "    }\n",
       "\n",
       "    .dataframe thead th {\n",
       "        text-align: right;\n",
       "    }\n",
       "</style>\n",
       "<table border=\"1\" class=\"dataframe\">\n",
       "  <thead>\n",
       "    <tr style=\"text-align: right;\">\n",
       "      <th></th>\n",
       "      <th>CODIGO_REGIONAL</th>\n",
       "      <th>NOMBRE_REGIONAL</th>\n",
       "      <th>CODIGO_CENTRO</th>\n",
       "      <th>NOMBRE_CENTRO</th>\n",
       "      <th>FICHA</th>\n",
       "      <th>PROGRAMA</th>\n",
       "      <th>VERSION_PROGRAMA</th>\n",
       "      <th>TIPO_FORMACION</th>\n",
       "      <th>RESPUESTA</th>\n",
       "      <th>FECHA_INICIO</th>\n",
       "      <th>...</th>\n",
       "      <th>PROGRAMADA</th>\n",
       "      <th>CODIGO_PROGRAMA_ESPECIAL</th>\n",
       "      <th>PROGRAMA_ESPECIAL</th>\n",
       "      <th>CODIGO_CONVENIO</th>\n",
       "      <th>AMPLIACION_DE_COBERTURA</th>\n",
       "      <th>CONVENIO</th>\n",
       "      <th>EMPRESA_TIPO_DOCUMENTO</th>\n",
       "      <th>EMPRESA_NUMERO_DOCUMENTO</th>\n",
       "      <th>EMPRESA</th>\n",
       "      <th>TIPO_FICHA</th>\n",
       "    </tr>\n",
       "  </thead>\n",
       "  <tbody>\n",
       "    <tr>\n",
       "      <th>0</th>\n",
       "      <td>19</td>\n",
       "      <td>REGIONAL CAUCA</td>\n",
       "      <td>9221</td>\n",
       "      <td>CENTRO DE TELEINFORMÁTICA Y PRODUCCIÓN INDUSTRIAL</td>\n",
       "      <td>2965626</td>\n",
       "      <td>BÁSICO EN OPERACIÓN Y MANTENIMIENTO DE MAQUINA...</td>\n",
       "      <td>2</td>\n",
       "      <td>A LA MEDIDA</td>\n",
       "      <td>CURSO ESPECIAL</td>\n",
       "      <td>2024-04-22 00:00:00.0</td>\n",
       "      <td>...</td>\n",
       "      <td>S</td>\n",
       "      <td>2135</td>\n",
       "      <td>ATENCION A INSTITUCIONES</td>\n",
       "      <td>0</td>\n",
       "      <td>NaN</td>\n",
       "      <td>NaN</td>\n",
       "      <td>NIT</td>\n",
       "      <td>8.000960e+08</td>\n",
       "      <td>ALCALDIA MUNICIPAL DE ROSAS</td>\n",
       "      <td>OTRO</td>\n",
       "    </tr>\n",
       "    <tr>\n",
       "      <th>1</th>\n",
       "      <td>19</td>\n",
       "      <td>REGIONAL CAUCA</td>\n",
       "      <td>9221</td>\n",
       "      <td>CENTRO DE TELEINFORMÁTICA Y PRODUCCIÓN INDUSTRIAL</td>\n",
       "      <td>2911059</td>\n",
       "      <td>DECORACION EN GLOBOS</td>\n",
       "      <td>1</td>\n",
       "      <td>A LA MEDIDA</td>\n",
       "      <td>CURSO ESPECIAL</td>\n",
       "      <td>2024-02-14 00:00:00.0</td>\n",
       "      <td>...</td>\n",
       "      <td>S</td>\n",
       "      <td>2135</td>\n",
       "      <td>ATENCION A INSTITUCIONES</td>\n",
       "      <td>0</td>\n",
       "      <td>NaN</td>\n",
       "      <td>NaN</td>\n",
       "      <td>NIT</td>\n",
       "      <td>8.915016e+09</td>\n",
       "      <td>RED UNIDOS</td>\n",
       "      <td>OTRO</td>\n",
       "    </tr>\n",
       "  </tbody>\n",
       "</table>\n",
       "<p>2 rows × 23 columns</p>\n",
       "</div>"
      ],
      "text/plain": [
       "   CODIGO_REGIONAL NOMBRE_REGIONAL  CODIGO_CENTRO  \\\n",
       "0               19  REGIONAL CAUCA           9221   \n",
       "1               19  REGIONAL CAUCA           9221   \n",
       "\n",
       "                                       NOMBRE_CENTRO    FICHA  \\\n",
       "0  CENTRO DE TELEINFORMÁTICA Y PRODUCCIÓN INDUSTRIAL  2965626   \n",
       "1  CENTRO DE TELEINFORMÁTICA Y PRODUCCIÓN INDUSTRIAL  2911059   \n",
       "\n",
       "                                            PROGRAMA  VERSION_PROGRAMA  \\\n",
       "0  BÁSICO EN OPERACIÓN Y MANTENIMIENTO DE MAQUINA...                 2   \n",
       "1                               DECORACION EN GLOBOS                 1   \n",
       "\n",
       "  TIPO_FORMACION       RESPUESTA           FECHA_INICIO  ... PROGRAMADA  \\\n",
       "0    A LA MEDIDA  CURSO ESPECIAL  2024-04-22 00:00:00.0  ...          S   \n",
       "1    A LA MEDIDA  CURSO ESPECIAL  2024-02-14 00:00:00.0  ...          S   \n",
       "\n",
       "  CODIGO_PROGRAMA_ESPECIAL         PROGRAMA_ESPECIAL CODIGO_CONVENIO  \\\n",
       "0                     2135  ATENCION A INSTITUCIONES               0   \n",
       "1                     2135  ATENCION A INSTITUCIONES               0   \n",
       "\n",
       "   AMPLIACION_DE_COBERTURA CONVENIO  EMPRESA_TIPO_DOCUMENTO  \\\n",
       "0                      NaN      NaN                     NIT   \n",
       "1                      NaN      NaN                     NIT   \n",
       "\n",
       "  EMPRESA_NUMERO_DOCUMENTO                      EMPRESA TIPO_FICHA  \n",
       "0             8.000960e+08  ALCALDIA MUNICIPAL DE ROSAS       OTRO  \n",
       "1             8.915016e+09                   RED UNIDOS       OTRO  \n",
       "\n",
       "[2 rows x 23 columns]"
      ]
     },
     "execution_count": 15,
     "metadata": {},
     "output_type": "execute_result"
    }
   ],
   "source": [
    "df1.head(2)"
   ]
  },
  {
   "cell_type": "code",
   "execution_count": 7,
   "metadata": {},
   "outputs": [
    {
     "name": "stdout",
     "output_type": "stream",
     "text": [
      "<class 'pandas.core.frame.DataFrame'>\n",
      "RangeIndex: 1241 entries, 0 to 1240\n",
      "Data columns (total 23 columns):\n",
      " #   Column                    Non-Null Count  Dtype  \n",
      "---  ------                    --------------  -----  \n",
      " 0   CODIGO_REGIONAL           1241 non-null   int64  \n",
      " 1   NOMBRE_REGIONAL           1241 non-null   object \n",
      " 2   CODIGO_CENTRO             1241 non-null   int64  \n",
      " 3   NOMBRE_CENTRO             1241 non-null   object \n",
      " 4   FICHA                     1241 non-null   int64  \n",
      " 5   PROGRAMA                  1241 non-null   object \n",
      " 6   VERSION_PROGRAMA          1241 non-null   int64  \n",
      " 7   TIPO_FORMACION            1241 non-null   object \n",
      " 8   RESPUESTA                 1241 non-null   object \n",
      " 9   FECHA_INICIO              1241 non-null   object \n",
      " 10  FECHA_FIN                 1241 non-null   object \n",
      " 11  ESTADO_FICHA              1241 non-null   object \n",
      " 12  APRENDICES_ACTIVOS        1241 non-null   int64  \n",
      " 13  PROGRAMADA                1241 non-null   object \n",
      " 14  CODIGO_PROGRAMA_ESPECIAL  1241 non-null   int64  \n",
      " 15  PROGRAMA_ESPECIAL         846 non-null    object \n",
      " 16  CODIGO_CONVENIO           1241 non-null   int64  \n",
      " 17  AMPLIACION_DE_COBERTURA   94 non-null     object \n",
      " 18  CONVENIO                  94 non-null     object \n",
      " 19  EMPRESA_TIPO_DOCUMENTO    819 non-null    object \n",
      " 20  EMPRESA_NUMERO_DOCUMENTO  819 non-null    float64\n",
      " 21  EMPRESA                   819 non-null    object \n",
      " 22  TIPO_FICHA                1241 non-null   object \n",
      "dtypes: float64(1), int64(7), object(15)\n",
      "memory usage: 223.1+ KB\n"
     ]
    }
   ],
   "source": [
    "df1.info()"
   ]
  },
  {
   "cell_type": "code",
   "execution_count": 16,
   "metadata": {},
   "outputs": [
    {
     "name": "stdout",
     "output_type": "stream",
     "text": [
      "./DATOS/EJECUCIÓN_DE_APRENDICES_JOVENES_VULNERABLES1.xlsx\n",
      "./DATOS/FICHA_ACUMULATIVA_212.xlsx\n",
      "./DATOS/clasificacion_perovskitas.xlsx\n",
      "./DATOS/REPORTE_CONSOLIDADO_DE_APRENDICES_POR_FICHA.xlsx\n",
      "./DATOS/FICHAS_ACADEMICAS_DEL_APRENDIZ1.xlsx\n",
      "./DATOS/INFORMACION_DE_APRENDICES_POR_NIVEL_DE_SISBEN1.xlsx\n",
      "./DATOS/MATRICULADOS_DETALLADO.xlsx\n",
      "./DATOS/NOVEDADES_Y_SANCIONES.xlsx\n",
      "./DATOS/MATRICULADOS_RESUMEN_POR_FICHA.xlsx\n",
      "./DATOS/INSCRITOS.xlsx\n",
      "./DATOS/CONSOLIDADO_FICHAS_CON_Y_SIN_PROGRAMACION_ESPECIFICA( EVENTOS)2.xlsx\n",
      "./DATOS/FICHA_ACUMULATIVA_31.xlsx\n",
      "./DATOS/NUMERO_DE_APRENDICES_MATRICULADOS_Y_CERTIFICADOS_DE_FORMACION_VIRTUAL_Y_EDT.xlsx\n",
      "./DATOS/DESERCIONES_CANCELACIÓN_DE_MATRÍCULA1.xlsx\n",
      "./DATOS/FICHA_ACUMULATIVA_41.xlsx\n",
      "./DATOS/FICHA_ACUMULATIVA1.xlsx\n",
      "./DATOS/CUPOS_POR_REGIONAL_Y_POR_CENTRO1.xlsx\n",
      "./DATOS/EJECUCION_DE_ALUMNOS_TITULADA_Y_COMPLEMENTARIA1.xlsx\n",
      "./DATOS/ETAPA_PRACTICA1.xlsx\n"
     ]
    }
   ],
   "source": [
    "# Iterar sobre los archivos en la carpeta\n",
    "for archivo in glob.glob(os.path.join(ruta, \"*.xlsx\")):\n",
    "    if os.path.isfile(archivo):\n",
    "        print(archivo)"
   ]
  },
  {
   "cell_type": "code",
   "execution_count": null,
   "metadata": {},
   "outputs": [],
   "source": []
  }
 ],
 "metadata": {
  "kernelspec": {
   "display_name": "ENV_SENA",
   "language": "python",
   "name": "python3"
  },
  "language_info": {
   "codemirror_mode": {
    "name": "ipython",
    "version": 3
   },
   "file_extension": ".py",
   "mimetype": "text/x-python",
   "name": "python",
   "nbconvert_exporter": "python",
   "pygments_lexer": "ipython3",
   "version": "3.10.12"
  }
 },
 "nbformat": 4,
 "nbformat_minor": 2
}
